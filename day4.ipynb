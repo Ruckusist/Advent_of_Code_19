{
 "nbformat": 4,
 "nbformat_minor": 2,
 "metadata": {
  "language_info": {
   "name": "python",
   "codemirror_mode": {
    "name": "ipython",
    "version": 3
   },
   "version": "3.7.4"
  },
  "orig_nbformat": 2,
  "file_extension": ".py",
  "mimetype": "text/x-python",
  "name": "python",
  "npconvert_exporter": "python",
  "pygments_lexer": "ipython3",
  "version": 3
 },
 "cells": [
  {
   "cell_type": "code",
   "execution_count": 1,
   "metadata": {},
   "outputs": [
    {
     "name": "stdout",
     "output_type": "stream",
     "text": "Max possible passwords in puzzle are: 473911\n"
    }
   ],
   "source": [
    "puzzle = [x for x in range(183564, 657475)]\n",
    "print(f\"Max possible passwords in puzzle are: {len(puzzle)}\")"
   ]
  },
  {
   "cell_type": "code",
   "execution_count": 2,
   "metadata": {},
   "outputs": [],
   "source": [
    "def check_double_double(number, first_double=0, verbose=False):\n",
    "    check_adj_deux = False\n",
    "    for i in range(len(str(number))):\n",
    "        if i == 0: continue   # skip the first number\n",
    "        if int(str(number)[i]) == first_double: \n",
    "            # print(\"debug 1\")\n",
    "            continue\n",
    "        check_adj_deux = int(str(number)[i]) == int(str(number)[i-1])\n",
    "        if check_adj_deux:\n",
    "            check_adj_deux = i\n",
    "            break\n",
    "    return check_adj_deux"
   ]
  },
  {
   "cell_type": "code",
   "execution_count": 3,
   "metadata": {},
   "outputs": [],
   "source": [
    "def check_long_runner(number, runner):\n",
    "    count = 0\n",
    "    check = False\n",
    "    for i in range(len(str(number))):\n",
    "        if i == 0: continue   # skip the first number\n",
    "        if not int(str(number)[i]) == int(runner): continue\n",
    "        check = int(str(number)[i]) == int(str(number)[i-1])\n",
    "        if check: \n",
    "            # print(\"debug\")\n",
    "            count += 1\n",
    "    exit()\n",
    "    return True if count > 2 else False\n"
   ]
  },
  {
   "cell_type": "code",
   "execution_count": 4,
   "metadata": {},
   "outputs": [],
   "source": [
    "def check_number(number):\n",
    "\n",
    "    check_len = False\n",
    "    if not len(str(number)) == 6: return False\n",
    "\n",
    "    # check 2 adjacent digits are the same\n",
    "    check_adj = False\n",
    "    for i in range(len(str(number))):\n",
    "        if i == 0: continue\n",
    "        check_adj = int(str(number)[i]) == int(str(number)[i-1])\n",
    "        if check_adj: check_adj = i; break\n",
    "    if not check_adj: return False\n",
    "\n",
    "    # check if never decending\n",
    "    check_decending = True\n",
    "    for i in range(len(str(number))):\n",
    "        if i == 0: continue   # skip the first number\n",
    "        check_decending = int(str(number)[i]) >= int(str(number)[i-1])\n",
    "        if not check_decending: return False\n",
    "\n",
    "    # check for double double\n",
    "    double_double = check_double_double(number, check_adj)\n",
    "    if double_double:\n",
    "        print(f\"double double {number}\")\n",
    "        if check_long_runner(number, double_double): return False\n",
    "    else:\n",
    "        if check_long_runner(number, check_adj): return False\n",
    "    return int(number)\n",
    "\n",
    "\n"
   ]
  },
  {
   "cell_type": "code",
   "execution_count": 5,
   "metadata": {},
   "outputs": [
    {
     "data": {
      "text/plain": "False"
     },
     "execution_count": 5,
     "metadata": {},
     "output_type": "execute_result"
    }
   ],
   "source": [
    "check_number(111111)"
   ]
  },
  {
   "cell_type": "code",
   "execution_count": 6,
   "metadata": {},
   "outputs": [
    {
     "name": "stdout",
     "output_type": "stream",
     "text": "e 255568\ndouble double 255569\ndouble double 255577\ndouble double 255578\ndouble double 255579\ndouble double 255588\ndouble double 255589\ndouble double 255599\ndouble double 255666\ndouble double 255667\ndouble double 255668\ndouble double 255669\ndouble double 255677\ndouble double 255678\ndouble double 255679\ndouble double 255688\ndouble double 255689\ndouble double 255699\ndouble double 255777\ndouble double 255778\ndouble double 255779\ndouble double 255788\ndouble double 255789\ndouble double 255799\ndouble double 255888\ndouble double 255889\ndouble double 255899\ndouble double 255999\ndouble double 256666\ndouble double 256667\ndouble double 256668\ndouble double 256669\ndouble double 256677\ndouble double 256678\ndouble double 256679\ndouble double 256688\ndouble double 256689\ndouble double 256699\ndouble double 256777\ndouble double 256778\ndouble double 256779\ndouble double 256788\ndouble double 256799\ndouble double 256888\ndouble double 256889\ndouble double 256899\ndouble double 256999\ndouble double 257777\ndouble double 257778\ndouble double 257779\ndouble double 257788\ndouble double 257789\ndouble double 257799\ndouble double 257888\ndouble double 257889\ndouble double 257899\ndouble double 257999\ndouble double 258888\ndouble double 258889\ndouble double 258899\ndouble double 258999\ndouble double 259999\ndouble double 266666\ndouble double 266667\ndouble double 266668\ndouble double 266669\ndouble double 266677\ndouble double 266678\ndouble double 266679\ndouble double 266688\ndouble double 266689\ndouble double 266699\ndouble double 266777\ndouble double 266778\ndouble double 266779\ndouble double 266788\ndouble double 266789\ndouble double 266799\ndouble double 266888\ndouble double 266889\ndouble double 266899\ndouble double 266999\ndouble double 267777\ndouble double 267778\ndouble double 267779\ndouble double 267788\ndouble double 267789\ndouble double 267799\ndouble double 267888\ndouble double 267889\ndouble double 267899\ndouble double 267999\ndouble double 268888\ndouble double 268889\ndouble double 268899\ndouble double 268999\ndouble double 269999\ndouble double 277777\ndouble double 277778\ndouble double 277779\ndouble double 277788\ndouble double 277789\ndouble double 277799\ndouble double 277888\ndouble double 277889\ndouble double 277899\ndouble double 277999\ndouble double 278888\ndouble double 278889\ndouble double 278899\ndouble double 278999\ndouble double 279999\ndouble double 288888\ndouble double 288889\ndouble double 288899\ndouble double 288999\ndouble double 289999\ndouble double 299999\ndouble double 333333\ndouble double 333334\ndouble double 333335\ndouble double 333336\ndouble double 333337\ndouble double 333338\ndouble double 333339\ndouble double 333344\ndouble double 333345\ndouble double 333346\ndouble double 333347\ndouble double 333348\ndouble double 333349\ndouble double 333355\ndouble double 333356\ndouble double 333357\ndouble double 333358\ndouble double 333359\ndouble double 333366\ndouble double 333367\ndouble double 333368\ndouble double 333369\ndouble double 333377\ndouble double 333378\ndouble double 333379\ndouble double 333388\ndouble double 333389\ndouble double 333399\ndouble double 333444\ndouble double 333445\ndouble double 333446\ndouble double 333447\ndouble double 333448\ndouble double 333449\ndouble double 333455\ndouble double 333456\ndouble double 333457\ndouble double 333458\ndouble double 333459\ndouble double 333466\ndouble double 333467\ndouble double 333468\ndouble double 333469\ndouble double 333477\ndouble double 333478\ndouble double 333479\ndouble double 333488\ndouble double 333489\ndouble double 333499\ndouble double 333555\ndouble double 333556\ndouble double 333557\ndouble double 333558\ndouble double 333559\ndouble double 333566\ndouble double 333567\ndouble double 333568\ndouble double 333569\ndouble double 333577\ndouble double 333578\ndouble double 333579\ndouble double 333588\ndouble double 333589\ndouble double 333599\ndouble double 333666\ndouble double 333667\ndouble double 333668\ndouble double 333669\ndouble double 333677\ndouble double 333678\ndouble double 333679\ndouble double 333688\ndouble double 333689\ndouble double 333699\ndouble double 333777\ndouble double 333778\ndouble double 333779\ndouble double 333788\ndouble double 333789\ndouble double 333799\ndouble double 333888\ndouble double 333889\ndouble double 333899\ndouble double 333999\ndouble double 334444\ndouble double 334445\ndouble double 334446\ndouble double 334447\ndouble double 334448\ndouble double 334449\ndouble double 334455\ndouble double 334456\ndouble double 334457\ndouble double 334458\ndouble double 334459\ndouble double 334466\ndouble double 334467\ndouble double 334468\ndouble double 334469\ndouble double 334477\ndouble double 334478\ndouble double 334479\ndouble double 334488\ndouble double 334489\ndouble double 334499\ndouble double 334555\ndouble double 334556\ndouble double 334557\ndouble double 334558\ndouble double 334559\ndouble double 334566\ndouble double 334567\ndouble double 334568\ndouble double 334569\ndouble double 334577\ndouble double 334578\ndouble double 334579\ndouble double 334588\ndouble double 334589\ndouble double 334599\ndouble double 334666\ndouble double 334667\ndouble double 334668\ndouble double 334669\ndouble double 334677\ndouble double 334678\ndouble double 334679\ndouble double 334688\ndouble double 334689\ndouble double 334699\ndouble double 334777\ndouble double 334778\ndouble double 334779\ndouble double 334788\ndouble double 334789\ndouble double 334799\ndouble double 334888\ndouble double 334889\ndouble double 334899\ndouble double 334999\ndouble double 335555\ndouble double 335556\ndouble double 335557\ndouble double 335558\ndouble double 335559\ndouble double 335566\ndouble double 335567\ndouble double 335568\ndouble double 335569\ndouble double 335577\ndouble double 335578\ndouble double 335579\ndouble double 335588\ndouble double 335589\ndouble double 335599\ndouble double 335666\ndouble double 335667\ndouble double 335668\ndouble double 335669\ndouble double 335677\ndouble double 335678\ndouble double 335679\ndouble double 335688\ndouble double 335689\ndouble double 335699\ndouble double 335777\ndouble double 335778\ndouble double 335779\ndouble double 335788\ndouble double 335789\ndouble double 335799\ndouble double 335888\ndouble double 335889\ndouble double 335899\ndouble double 335999\ndouble double 336666\ndouble double 336667\ndouble double 336668\ndouble double 336669\ndouble double 336677\ndouble double 336678\ndouble double 336679\ndouble double 336688\ndouble double 336689\ndouble double 336699\ndouble double 336777\ndouble double 336778\ndouble double 336779\ndouble double 336788\ndouble double 336789\ndouble double 336799\ndouble double 336888\ndouble double 336889\ndouble double 336899\ndouble double 336999\ndouble double 337777\ndouble double 337778\ndouble double 337779\ndouble double 337788\ndouble double 337789\ndouble double 337799\ndouble double 337888\ndouble double 337889\ndouble double 337899\ndouble double 337999\ndouble double 338888\ndouble double 338889\ndouble double 338899\ndouble double 338999\ndouble double 339999\ndouble double 344444\ndouble double 344445\ndouble double 344446\ndouble double 344447\ndouble double 344448\ndouble double 344449\ndouble double 344455\ndouble double 344456\ndouble double 344457\ndouble double 344458\ndouble double 344459\ndouble double 344466\ndouble double 344467\ndouble double 344468\ndouble double 344469\ndouble double 344477\ndouble double 344478\ndouble double 344479\ndouble double 344488\ndouble double 344489\ndouble double 344499\ndouble double 344555\ndouble double 344556\ndouble double 344557\ndouble double 344558\ndouble double 344559\ndouble double 344566\ndouble double 344567\ndouble double 344568\ndouble double 344569\ndouble double 344577\ndouble double 344578\ndouble double 344579\ndouble double 344588\ndouble double 344589\ndouble double 344599\ndouble double 344666\ndouble double 344667\ndouble double 344668\ndouble double 344669\ndouble double 344677\ndouble double 344678\ndouble double 344679\ndouble double 344688\ndouble double 344689\ndouble double 344699\ndouble double 344777\ndouble double 344778\ndouble double 344779\ndouble double 344788\ndouble double 344789\ndouble double 344799\ndouble double 344888\ndouble double 344889\ndouble double 344899\ndouble double 344999\ndouble double 345555\ndouble double 345556\ndouble double 345557\ndouble double 345558\ndouble double 345559\ndouble double 345566\ndouble double 345567\ndouble double 345568\ndouble double 345569\ndouble double 345577\ndouble double 345578\ndouble double 345579\ndouble double 345588\ndouble double 345589\ndouble double 345599\ndouble double 345666\ndouble double 345667\ndouble double 345668\ndouble double 345669\ndouble double 345677\ndouble double 345688\ndouble double 345699\ndouble double 345777\ndouble double 345778\ndouble double 345779\ndouble double 345788\ndouble double 345799\ndouble double 345888\ndouble double 345889\ndouble double 345899\ndouble double 345999\ndouble double 346666\ndouble double 346667\ndouble double 346668\ndouble double 346669\ndouble double 346677\ndouble double 346678\ndouble double 346679\ndouble double 346688\ndouble double 346689\ndouble double 346699\ndouble double 346777\ndouble double 346778\ndouble double 346779\ndouble double 346788\ndouble double 346799\ndouble double 346888\ndouble double 346889\ndouble double 346899\ndouble double 346999\ndouble double 347777\ndouble double 347778\ndouble double 347779\ndouble double 347788\ndouble double 347789\ndouble double 347799\ndouble double 347888\ndouble double 347889\ndouble double 347899\ndouble double 347999\ndouble double 348888\ndouble double 348889\ndouble double 348899\ndouble double 348999\ndouble double 349999\ndouble double 355555\ndouble double 355556\ndouble double 355557\ndouble double 355558\ndouble double 355559\ndouble double 355566\ndouble double 355567\ndouble double 355568\ndouble double 355569\ndouble double 355577\ndouble double 355578\ndouble double 355579\ndouble double 355588\ndouble double 355589\ndouble double 355599\ndouble double 355666\ndouble double 355667\ndouble double 355668\ndouble double 355669\ndouble double 355677\ndouble double 355678\ndouble double 355679\ndouble double 355688\ndouble double 355689\ndouble double 355699\ndouble double 355777\ndouble double 355778\ndouble double 355779\ndouble double 355788\ndouble double 355789\ndouble double 355799\ndouble double 355888\ndouble double 355889\ndouble double 355899\ndouble double 355999\ndouble double 356666\ndouble double 356667\ndouble double 356668\ndouble double 356669\ndouble double 356677\ndouble double 356678\ndouble double 356679\ndouble double 356688\ndouble double 356689\ndouble double 356699\ndouble double 356777\ndouble double 356778\ndouble double 356779\ndouble double 356788\ndouble double 356799\ndouble double 356888\ndouble double 356889\ndouble double 356899\ndouble double 356999\ndouble double 357777\ndouble double 357778\ndouble double 357779\ndouble double 357788\ndouble double 357789\ndouble double 357799\ndouble double 357888\ndouble double 357889\ndouble double 357899\ndouble double 357999\ndouble double 358888\ndouble double 358889\ndouble double 358899\ndouble double 358999\ndouble double 359999\ndouble double 366666\ndouble double 366667\ndouble double 366668\ndouble double 366669\ndouble double 366677\ndouble double 366678\ndouble double 366679\ndouble double 366688\ndouble double 366689\ndouble double 366699\ndouble double 366777\ndouble double 366778\ndouble double 366779\ndouble double 366788\ndouble double 366789\ndouble double 366799\ndouble double 366888\ndouble double 366889\ndouble double 366899\ndouble double 366999\ndouble double 367777\ndouble double 367778\ndouble double 367779\ndouble double 367788\ndouble double 367789\ndouble double 367799\ndouble double 367888\ndouble double 367889\ndouble double 367899\ndouble double 367999\ndouble double 368888\ndouble double 368889\ndouble double 368899\ndouble double 368999\ndouble double 369999\ndouble double 377777\ndouble double 377778\ndouble double 377779\ndouble double 377788\ndouble double 377789\ndouble double 377799\ndouble double 377888\ndouble double 377889\ndouble double 377899\ndouble double 377999\ndouble double 378888\ndouble double 378889\ndouble double 378899\ndouble double 378999\ndouble double 379999\ndouble double 388888\ndouble double 388889\ndouble double 388899\ndouble double 388999\ndouble double 389999\ndouble double 399999\ndouble double 444444\ndouble double 444445\ndouble double 444446\ndouble double 444447\ndouble double 444448\ndouble double 444449\ndouble double 444455\ndouble double 444456\ndouble double 444457\ndouble double 444458\ndouble double 444459\ndouble double 444466\ndouble double 444467\ndouble double 444468\ndouble double 444469\ndouble double 444477\ndouble double 444478\ndouble double 444479\ndouble double 444488\ndouble double 444489\ndouble double 444499\ndouble double 444555\ndouble double 444556\ndouble double 444557\ndouble double 444558\ndouble double 444559\ndouble double 444566\ndouble double 444567\ndouble double 444568\ndouble double 444569\ndouble double 444577\ndouble double 444578\ndouble double 444579\ndouble double 444588\ndouble double 444589\ndouble double 444599\ndouble double 444666\ndouble double 444667\ndouble double 444668\ndouble double 444669\ndouble double 444677\ndouble double 444678\ndouble double 444679\ndouble double 444688\ndouble double 444689\ndouble double 444699\ndouble double 444777\ndouble double 444778\ndouble double 444779\ndouble double 444788\ndouble double 444789\ndouble double 444799\ndouble double 444888\ndouble double 444889\ndouble double 444899\ndouble double 444999\ndouble double 445555\ndouble double 445556\ndouble double 445557\ndouble double 445558\ndouble double 445559\ndouble double 445566\ndouble double 445567\ndouble double 445568\ndouble double 445569\ndouble double 445577\ndouble double 445578\ndouble double 445579\ndouble double 445588\ndouble double 445589\ndouble double 445599\ndouble double 445666\ndouble double 445667\ndouble double 445668\ndouble double 445669\ndouble double 445677\ndouble double 445678\ndouble double 445679\ndouble double 445688\ndouble double 445689\ndouble double 445699\ndouble double 445777\ndouble double 445778\ndouble double 445779\ndouble double 445788\ndouble double 445789\ndouble double 445799\ndouble double 445888\ndouble double 445889\ndouble double 445899\ndouble double 445999\ndouble double 446666\ndouble double 446667\ndouble double 446668\ndouble double 446669\ndouble double 446677\ndouble double 446678\ndouble double 446679\ndouble double 446688\ndouble double 446689\ndouble double 446699\ndouble double 446777\ndouble double 446778\ndouble double 446779\ndouble double 446788\ndouble double 446789\ndouble double 446799\ndouble double 446888\ndouble double 446889\ndouble double 446899\ndouble double 446999\ndouble double 447777\ndouble double 447778\ndouble double 447779\ndouble double 447788\ndouble double 447789\ndouble double 447799\ndouble double 447888\ndouble double 447889\ndouble double 447899\ndouble double 447999\ndouble double 448888\ndouble double 448889\ndouble double 448899\ndouble double 448999\ndouble double 449999\ndouble double 455555\ndouble double 455556\ndouble double 455557\ndouble double 455558\ndouble double 455559\ndouble double 455566\ndouble double 455567\ndouble double 455568\ndouble double 455569\ndouble double 455577\ndouble double 455578\ndouble double 455579\ndouble double 455588\ndouble double 455589\ndouble double 455599\ndouble double 455666\ndouble double 455667\ndouble double 455668\ndouble double 455669\ndouble double 455677\ndouble double 455678\ndouble double 455679\ndouble double 455688\ndouble double 455689\ndouble double 455699\ndouble double 455777\ndouble double 455778\ndouble double 455779\ndouble double 455788\ndouble double 455789\ndouble double 455799\ndouble double 455888\ndouble double 455889\ndouble double 455899\ndouble double 455999\ndouble double 456666\ndouble double 456667\ndouble double 456668\ndouble double 456669\ndouble double 456677\ndouble double 456678\ndouble double 456679\ndouble double 456688\ndouble double 456689\ndouble double 456699\ndouble double 456777\ndouble double 456778\ndouble double 456779\ndouble double 456788\ndouble double 456799\ndouble double 456888\ndouble double 456889\ndouble double 456899\ndouble double 456999\ndouble double 457777\ndouble double 457778\ndouble double 457779\ndouble double 457788\ndouble double 457789\ndouble double 457799\ndouble double 457888\ndouble double 457889\ndouble double 457899\ndouble double 457999\ndouble double 458888\ndouble double 458889\ndouble double 458899\ndouble double 458999\ndouble double 459999\ndouble double 466666\ndouble double 466667\ndouble double 466668\ndouble double 466669\ndouble double 466677\ndouble double 466678\ndouble double 466679\ndouble double 466688\ndouble double 466689\ndouble double 466699\ndouble double 466777\ndouble double 466778\ndouble double 466779\ndouble double 466788\ndouble double 466789\ndouble double 466799\ndouble double 466888\ndouble double 466889\ndouble double 466899\ndouble double 466999\ndouble double 467777\ndouble double 467778\ndouble double 467779\ndouble double 467788\ndouble double 467789\ndouble double 467799\ndouble double 467888\ndouble double 467889\ndouble double 467899\ndouble double 467999\ndouble double 468888\ndouble double 468889\ndouble double 468899\ndouble double 468999\ndouble double 469999\ndouble double 477777\ndouble double 477778\ndouble double 477779\ndouble double 477788\ndouble double 477789\ndouble double 477799\ndouble double 477888\ndouble double 477889\ndouble double 477899\ndouble double 477999\ndouble double 478888\ndouble double 478889\ndouble double 478899\ndouble double 478999\ndouble double 479999\ndouble double 488888\ndouble double 488889\ndouble double 488899\ndouble double 488999\ndouble double 489999\ndouble double 499999\ndouble double 555555\ndouble double 555556\ndouble double 555557\ndouble double 555558\ndouble double 555559\ndouble double 555566\ndouble double 555567\ndouble double 555568\ndouble double 555569\ndouble double 555577\ndouble double 555578\ndouble double 555579\ndouble double 555588\ndouble double 555589\ndouble double 555599\ndouble double 555666\ndouble double 555667\ndouble double 555668\ndouble double 555669\ndouble double 555677\ndouble double 555678\ndouble double 555679\ndouble double 555688\ndouble double 555689\ndouble double 555699\ndouble double 555777\ndouble double 555778\ndouble double 555779\ndouble double 555788\ndouble double 555789\ndouble double 555799\ndouble double 555888\ndouble double 555889\ndouble double 555899\ndouble double 555999\ndouble double 556666\ndouble double 556667\ndouble double 556668\ndouble double 556669\ndouble double 556677\ndouble double 556678\ndouble double 556679\ndouble double 556688\ndouble double 556689\ndouble double 556699\ndouble double 556777\ndouble double 556778\ndouble double 556779\ndouble double 556788\ndouble double 556789\ndouble double 556799\ndouble double 556888\ndouble double 556889\ndouble double 556899\ndouble double 556999\ndouble double 557777\ndouble double 557778\ndouble double 557779\ndouble double 557788\ndouble double 557789\ndouble double 557799\ndouble double 557888\ndouble double 557889\ndouble double 557899\ndouble double 557999\ndouble double 558888\ndouble double 558889\ndouble double 558899\ndouble double 558999\ndouble double 559999\ndouble double 566666\ndouble double 566667\ndouble double 566668\ndouble double 566669\ndouble double 566677\ndouble double 566678\ndouble double 566679\ndouble double 566688\ndouble double 566689\ndouble double 566699\ndouble double 566777\ndouble double 566778\ndouble double 566779\ndouble double 566788\ndouble double 566789\ndouble double 566799\ndouble double 566888\ndouble double 566889\ndouble double 566899\ndouble double 566999\ndouble double 567777\ndouble double 567778\ndouble double 567779\ndouble double 567788\ndouble double 567789\ndouble double 567799\ndouble double 567888\ndouble double 567889\ndouble double 567899\ndouble double 567999\ndouble double 568888\ndouble double 568889\ndouble double 568899\ndouble double 568999\ndouble double 569999\ndouble double 577777\ndouble double 577778\ndouble double 577779\ndouble double 577788\ndouble double 577789\ndouble double 577799\ndouble double 577888\ndouble double 577889\ndouble double 577899\ndouble double 577999\ndouble double 578888\ndouble double 578889\ndouble double 578899\ndouble double 578999\ndouble double 579999\ndouble double 588888\ndouble double 588889\ndouble double 588899\ndouble double 588999\ndouble double 589999\ndouble double 599999\nNum of passwords that would work is 1610\n"
    }
   ],
   "source": [
    "passwords_that_would_work = []\n",
    "for i in puzzle:   # list of numbers\n",
    "    num = check_number(i)\n",
    "    if num: passwords_that_would_work.append(num)\n",
    "print(f\"Num of passwords that would work is {len(passwords_that_would_work)}\")"
   ]
  },
  {
   "cell_type": "code",
   "metadata": {},
   "outputs": [],
   "source": []
  }
 ]
}