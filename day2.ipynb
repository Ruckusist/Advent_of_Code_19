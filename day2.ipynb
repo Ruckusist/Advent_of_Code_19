{
 "cells": [
  {
   "cell_type": "code",
   "execution_count": 1,
   "metadata": {},
   "outputs": [],
   "source": [
    "import math\n",
    "import time\n",
    "import copy"
   ]
  },
  {
   "cell_type": "code",
   "execution_count": 2,
   "metadata": {},
   "outputs": [],
   "source": [
    "def opcode1(a,b,x,seq):\n",
    "    # Addition\n",
    "    seq[x] = seq[a] + seq[b]\n",
    "    return seq"
   ]
  },
  {
   "cell_type": "code",
   "execution_count": 3,
   "metadata": {},
   "outputs": [],
   "source": [
    "def opcode2(a,b,x,seq):\n",
    "    # Addition\n",
    "    seq[x] = seq[a] * seq[b]\n",
    "    return seq"
   ]
  },
  {
   "cell_type": "code",
   "execution_count": 5,
   "metadata": {},
   "outputs": [
    {
     "name": "stdout",
     "output_type": "stream",
     "text": [
      "Program has 34 Instructions\n"
     ]
    }
   ],
   "source": [
    "# program https://adventofcode.com/2019/day/2/input\n",
    "program = [1,0,0,3,1,1,2,3,1,3,4,3,1,5,0,3,2,1,10,19,2,9,19,23,2,23,10,27,1,6,27,31,1,31,6,35,2,35,10,39,1,39,5,43,2,6,43,47,2,47,10,51,1,51,6,55,1,55,6,59,1,9,59,63,1,63,9,67,1,67,6,71,2,71,13,75,1,75,5,79,1,79,9,83,2,6,83,87,1,87,5,91,2,6,91,95,1,95,9,99,2,6,99,103,1,5,103,107,1,6,107,111,1,111,10,115,2,115,13,119,1,119,6,123,1,123,2,127,1,127,5,0,99,2,14,0,0]\n",
    "# SPECIAL INSTURCTIONS !!!!\n",
    "# replace position 1 with the value 12 and replace position 2 with the value 2.\n",
    "if False:  # ON PART ONE?\n",
    "    program[1] = 12\n",
    "    program[2] = 2\n",
    "\n",
    "program_len = math.floor(len(program)/4)\n",
    "\n",
    "# print(program)\n",
    "print(f\"Program has {program_len} Instructions\")"
   ]
  },
  {
   "cell_type": "code",
   "execution_count": 6,
   "metadata": {},
   "outputs": [
    {
     "name": "stdout",
     "output_type": "stream",
     "text": [
      "Part 1: 3716250\n"
     ]
    }
   ],
   "source": [
    "def the_thing(program, noun, verb):\n",
    "    program[1] = noun\n",
    "    program[2] = verb\n",
    "    for operation_num in range(program_len):\n",
    "        # https://stackoverflow.com/a/312464\n",
    "        chunks = [program[i:i + 4] for i in range(0, len(program), 4)]\n",
    "        operation = chunks[operation_num]\n",
    "        if operation[0] == 1:\n",
    "            program = opcode1(operation[1], operation[2], operation[3], program)\n",
    "        elif operation[0] == 2:\n",
    "            program = opcode2(operation[1], operation[2], operation[3], program)\n",
    "        elif operation[0] == 99:\n",
    "            break\n",
    "    return program[0]\n",
    "part_1 = the_thing(copy.copy(program), 12, 2)\n",
    "print(f\"Part 1: {part_1}\")"
   ]
  },
  {
   "cell_type": "code",
   "execution_count": 7,
   "metadata": {},
   "outputs": [
    {
     "name": "stdout",
     "output_type": "stream",
     "text": [
      "Noun: 64 | Verb: 72 | Output: 19690720 | Answer: 6472\n"
     ]
    }
   ],
   "source": [
    "# PART 2\n",
    "for noun in range(0, 100):\n",
    "    for verb in range(0, 100):\n",
    "        output = the_thing(copy.copy(program), noun, verb)\n",
    "        if output == 19690720:     \n",
    "            Answer = (noun * 100) + verb\n",
    "            print(f\"Noun: {noun} | Verb: {verb} | Output: {output} | Answer: {Answer}\")"
   ]
  }
 ],
 "metadata": {
  "file_extension": ".py",
  "kernelspec": {
   "display_name": "Python 3",
   "language": "python",
   "name": "python3"
  },
  "language_info": {
   "codemirror_mode": {
    "name": "ipython",
    "version": 3
   },
   "file_extension": ".py",
   "mimetype": "text/x-python",
   "name": "python",
   "nbconvert_exporter": "python",
   "pygments_lexer": "ipython3",
   "version": "3.7.4"
  },
  "mimetype": "text/x-python",
  "name": "python",
  "npconvert_exporter": "python",
  "pygments_lexer": "ipython3",
  "version": 3
 },
 "nbformat": 4,
 "nbformat_minor": 4
}
