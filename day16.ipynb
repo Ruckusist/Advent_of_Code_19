{
 "nbformat": 4,
 "nbformat_minor": 2,
 "metadata": {
  "language_info": {
   "name": "python",
   "codemirror_mode": {
    "name": "ipython",
    "version": 3
   },
   "version": "3.7.4"
  },
  "orig_nbformat": 2,
  "file_extension": ".py",
  "mimetype": "text/x-python",
  "name": "python",
  "npconvert_exporter": "python",
  "pygments_lexer": "ipython3",
  "version": 3
 },
 "cells": [
  {
   "cell_type": "code",
   "execution_count": 11,
   "metadata": {},
   "outputs": [],
   "source": [
    "from timeit import default_timer as timer\n",
    "from tqdm.notebook import trange, tqdm\n",
    "from time import sleep"
   ]
  },
  {
   "cell_type": "code",
   "execution_count": 2,
   "metadata": {},
   "outputs": [],
   "source": [
    "input_ = \"59719896749391372935980241840868095901909650477974922926863874668817926756504816327136638260644919270589305499504699701736406883012172909202912675166762841246709052187371758225695359676410279518694947094323466110604412184843328145082858383186144864220867912457193726817225273989002642178918584132902751560672461100948770988856677526693132615515437829437045916042287792937505148994701494994595404345537543400830028374701775936185956190469052693669806665481610052844626982468241111349622754998877546914382626821708059755592288986918651172943415960912020715327234415148476336205299713749014282618817141515873262264265988745414393060010837408970796104077\"\n",
    "input2 = \"80871224585914546619083218645595\"\n",
    "input3 = \"12345678\"\n",
    "# print(input3)"
   ]
  },
  {
   "cell_type": "code",
   "metadata": {},
   "outputs": [],
   "source": [
    "input_x = input_ * 10000"
   ]
  },
  {
   "cell_type": "code",
   "execution_count": 3,
   "metadata": {},
   "outputs": [],
   "source": [
    "def phase(in_seq, verbose=False):\n",
    "    ret = \"\"\n",
    "    repeat_seq = [0,1,0,-1]\n",
    "    for index, element in enumerate(in_seq):\n",
    "        rpt_sq = []\n",
    "        counter = 0\n",
    "        while True:\n",
    "            if counter >= len(in_seq)+1: break\n",
    "            for x in repeat_seq:\n",
    "                if counter >= len(in_seq)+1: break\n",
    "                for i in range(index+1):\n",
    "                    if counter >= len(in_seq)+1: break\n",
    "                    rpt_sq.append( x )\n",
    "                    counter += 1\n",
    "        rpt_sq.pop(0)\n",
    "        if verbose: print(f\"[{index+1}/{len(in_seq)}] len: {len(rpt_sq)} | {rpt_sq}\")\n",
    "        equation = \"\"\n",
    "        answer = 0\n",
    "        for index, (ele1, ele2) in enumerate(zip(rpt_sq, in_seq)):\n",
    "            equation += f\"({ele2} * {ele1})\"\n",
    "            answer += int(ele2) * int(ele1)\n",
    "            if index+1 < len(rpt_sq): equation += \" + \"\n",
    "        if verbose: print(equation, \" = \", abs(int(str(answer)[-1])))\n",
    "        ret += str(abs(int(str(answer)[-1])))\n",
    "\n",
    "    return ret"
   ]
  },
  {
   "cell_type": "code",
   "execution_count": 12,
   "metadata": {},
   "outputs": [
    {
     "name": "stdout",
     "output_type": "stream",
     "text": "32002835\ntotal time taken 0.87 mins.\n"
    }
   ],
   "source": [
    "input1 = input_\n",
    "time = 0\n",
    "verbose = False\n",
    "total_time = 0\n",
    "for phase_ in range(1, 101):\n",
    "    if verbose: print(f\"Working on Phase: {phase_}\")\n",
    "    start = timer()\n",
    "    input1 = phase(input1, verbose)\n",
    "    # elapsed = timer() - start\n",
    "    total_time += timer() - start\n",
    "    # if verbose: print(f\" Took {elapsed:.2f} secs.\")\n",
    "    # print(f\"| avg. {total_time/phase_:.2f} secs. \\r\")\n",
    "    # print(f\"this phase has a number {len(str(input1))} digits long.\")\n",
    "print(input1[:8])\n",
    "print(f\"total time taken {total_time/60 if total_time > 60 else total_time:.2f} mins.\")"
   ]
  },
  {
   "cell_type": "code",
   "execution_count": 6,
   "metadata": {},
   "outputs": [
    {
     "name": "stdout",
     "output_type": "stream",
     "text": "32002835\n"
    }
   ],
   "source": [
    "print(input1[:8])"
   ]
  },
  {
   "cell_type": "code",
   "metadata": {},
   "outputs": [],
   "source": [
    "position = \"\".join([x for x in input1[:7]])\n",
    "print(int(position))\n",
    "answer = \"\".join([x for x in input1[int(position):int(position)+8]])\n",
    "print(answer)"
   ]
  }
 ]
}